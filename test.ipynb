{
 "cells": [
  {
   "cell_type": "code",
   "execution_count": 8,
   "metadata": {},
   "outputs": [],
   "source": [
    "import numpy as np"
   ]
  },
  {
   "cell_type": "markdown",
   "metadata": {},
   "source": [
    "# Задание 1 – пример кода (модифицированый multi armed bandit с семплингом из распределения дирихле и апдейтом параметров)"
   ]
  },
  {
   "cell_type": "code",
   "execution_count": 16,
   "metadata": {},
   "outputs": [],
   "source": [
    "def calculate_rewards(vector, multiplier):\n",
    "    '''\n",
    "    Calculate rewards for updating dirichlet prior\n",
    "    :param vector: current article vector\n",
    "    :param multiplier: multiplier to calculate rewards (int >= 1)\n",
    "    :return: rewards - a vector of size == article vector size, each component is int >= 0\n",
    "    '''\n",
    "    rewards = np.around(vector, decimals=1) * 10 * multiplier\n",
    "    return rewards\n",
    "\n",
    "\n",
    "def update_vector_multiple(vector_current, vector_personal, reward, multiplier):\n",
    "    '''\n",
    "    Update current vector given rewards and multiplier\n",
    "    :param vector_current: current article vector\n",
    "    :param vector_personal: a list of 2 vectors of article vector size. first - dirichlet prior parameters, second - a sample from dirichlet prior with current params\n",
    "    :param reward: {0,1} reward\n",
    "    :param multiplier: multiplier to calculate rewards (int >= 1)\n",
    "    :return: comparer - a vector to compare with articles matrix and NN search (equals vector_personal[2])\n",
    "    '''\n",
    "    # get rewards to update dirichlet prior\n",
    "    rewards = calculate_rewards(vector_current, multiplier)\n",
    "    # update dirichlet prior\n",
    "    vector_personal = [np.array(x) for x in vector_personal]\n",
    "    if reward == 1:\n",
    "        vector_personal[0] += rewards\n",
    "    else:\n",
    "        # if reward == 0, we should stick to 1 as a minimum value in dirichlet params vector\n",
    "        vector_personal[0] = (vector_personal[0] - rewards).clip(1)\n",
    "    # thompson sampling using dirichlet distribution\n",
    "    comparer = np.random.dirichlet(vector_personal[0])\n",
    "    vector_personal[1] = comparer\n",
    "    return vector_personal, comparer\n",
    "\n",
    "\n"
   ]
  },
  {
   "cell_type": "code",
   "execution_count": 17,
   "metadata": {},
   "outputs": [],
   "source": [
    "def test_calculate_rewards():\n",
    "    multiplier = 2\n",
    "    params = np.ones(100)\n",
    "    vec = np.random.dirichlet(params)\n",
    "    rewards = calculate_rewards(vec,multiplier)\n",
    "    true_rewards = np.around(vec, decimals=1) * 10 * multiplier\n",
    "    assert(all(rewards==true_rewards))\n",
    "\n",
    "def test_update_vector_multiple():\n",
    "    params = np.ones(100)\n",
    "    vec = np.random.dirichlet(params)\n",
    "    personal = [np.ones(100),np.zeros(100)]\n",
    "    multiplier = 3\n",
    "    reward = 1\n",
    "    personal_upd, comparer = update_vector_multiple(vec,personal,reward, multiplier)\n",
    "    true_rewards = personal[0] + np.around(vec, decimals=1) * 10 * multiplier\n",
    "    assert all(personal_upd[0]==true_rewards)\n"
   ]
  },
  {
   "cell_type": "code",
   "execution_count": 18,
   "metadata": {},
   "outputs": [],
   "source": [
    "test_calculate_rewards()"
   ]
  },
  {
   "cell_type": "code",
   "execution_count": 19,
   "metadata": {},
   "outputs": [],
   "source": [
    "test_update_vector_multiple()"
   ]
  },
  {
   "cell_type": "markdown",
   "metadata": {},
   "source": [
    "# Задание 2"
   ]
  },
  {
   "cell_type": "markdown",
   "metadata": {},
   "source": [
    "Таблица Product (productID, productName)\n"
   ]
  },
  {
   "cell_type": "markdown",
   "metadata": {},
   "source": [
    "Таблица Category (categoryID, categoryName)"
   ]
  },
  {
   "cell_type": "markdown",
   "metadata": {},
   "source": [
    "Отношение many to many - таблица отношения - Product_Category(productID,categoryID)"
   ]
  },
  {
   "cell_type": "markdown",
   "metadata": {},
   "source": [
    "Запрос – SELECT productName, CategoryName from Product LEFT JOIN Product_Category ON Product.productID = Product_Category.ProductID INNER JOIN Category ON Product_Category.CategoryID = Category.CategoryID "
   ]
  },
  {
   "cell_type": "code",
   "execution_count": 20,
   "metadata": {},
   "outputs": [],
   "source": [
    "# Запрос по памяти тут (у меня нет таблицы чтоб проверить)"
   ]
  },
  {
   "cell_type": "code",
   "execution_count": null,
   "metadata": {},
   "outputs": [],
   "source": []
  }
 ],
 "metadata": {
  "kernelspec": {
   "display_name": "Python 3",
   "language": "python",
   "name": "python3"
  },
  "language_info": {
   "codemirror_mode": {
    "name": "ipython",
    "version": 3
   },
   "file_extension": ".py",
   "mimetype": "text/x-python",
   "name": "python",
   "nbconvert_exporter": "python",
   "pygments_lexer": "ipython3",
   "version": "3.6.5"
  }
 },
 "nbformat": 4,
 "nbformat_minor": 2
}
